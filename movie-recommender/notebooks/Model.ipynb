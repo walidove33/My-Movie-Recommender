{
 "cells": [
  {
   "cell_type": "code",
   "execution_count": 1,
   "id": "ee2a4856-0f75-42f3-87af-588601ba5698",
   "metadata": {},
   "outputs": [],
   "source": [
    "import pandas as pd\n",
    "import numpy as np\n",
    "import matplotlib.pyplot as plt\n",
    "import seaborn as sns\n",
    "from IPython.display import display\n",
    "from pathlib import Path"
   ]
  },
  {
   "cell_type": "code",
   "execution_count": 3,
   "id": "6573d8ac-5a4c-4481-b4aa-13358621b11f",
   "metadata": {},
   "outputs": [],
   "source": [
    "import sys\n",
    "sys.path.append(str(Path.cwd().parent))\n",
    "from model.data_processing import load_and_clean_data\n",
    "from model.recommendation_engine import RecommendationEngine"
   ]
  },
  {
   "cell_type": "code",
   "execution_count": 5,
   "id": "9b131a3f-d4b1-4465-a20f-6e77c69f07ba",
   "metadata": {
    "scrolled": true
   },
   "outputs": [
    {
     "ename": "IntCastingNaNError",
     "evalue": "Cannot convert non-finite values (NA or inf) to integer",
     "output_type": "error",
     "traceback": [
      "\u001b[31m---------------------------------------------------------------------------\u001b[39m",
      "\u001b[31mIntCastingNaNError\u001b[39m                        Traceback (most recent call last)",
      "\u001b[36mCell\u001b[39m\u001b[36m \u001b[39m\u001b[32mIn[5]\u001b[39m\u001b[32m, line 1\u001b[39m\n\u001b[32m----> \u001b[39m\u001b[32m1\u001b[39m movies_data = \u001b[43mload_and_clean_data\u001b[49m\u001b[43m(\u001b[49m\u001b[43m)\u001b[49m\n\u001b[32m      2\u001b[39m ratings_df = pd.read_csv(\u001b[33m'\u001b[39m\u001b[33m../data/ratings.csv\u001b[39m\u001b[33m'\u001b[39m)\n",
      "\u001b[36mFile \u001b[39m\u001b[32m~\\OneDrive\\Bureau\\New_Pfa\\movie-recommender\\model\\data_processing.py:115\u001b[39m, in \u001b[36mload_and_clean_data\u001b[39m\u001b[34m()\u001b[39m\n\u001b[32m    110\u001b[39m movies_data[\u001b[33m'\u001b[39m\u001b[33mposter_path\u001b[39m\u001b[33m'\u001b[39m] = movies_data[\u001b[33m'\u001b[39m\u001b[33mposter_path\u001b[39m\u001b[33m'\u001b[39m].apply(\n\u001b[32m    111\u001b[39m     \u001b[38;5;28;01mlambda\u001b[39;00m x: \u001b[33mf\u001b[39m\u001b[33m\"\u001b[39m\u001b[33mhttps://image.tmdb.org/t/p/w500\u001b[39m\u001b[38;5;132;01m{\u001b[39;00mx\u001b[38;5;132;01m}\u001b[39;00m\u001b[33m\"\u001b[39m \u001b[38;5;28;01mif\u001b[39;00m pd.notnull(x) \u001b[38;5;28;01melse\u001b[39;00m \u001b[38;5;28;01mNone\u001b[39;00m\n\u001b[32m    112\u001b[39m )\n\u001b[32m    114\u001b[39m \u001b[38;5;66;03m# Convert year to integer and clean duration\u001b[39;00m\n\u001b[32m--> \u001b[39m\u001b[32m115\u001b[39m movies_data[\u001b[33m'\u001b[39m\u001b[33mrelease_year\u001b[39m\u001b[33m'\u001b[39m] = \u001b[43mmovies_data\u001b[49m\u001b[43m[\u001b[49m\u001b[33;43m'\u001b[39;49m\u001b[33;43mrelease_year\u001b[39;49m\u001b[33;43m'\u001b[39;49m\u001b[43m]\u001b[49m\u001b[43m.\u001b[49m\u001b[43mastype\u001b[49m\u001b[43m(\u001b[49m\u001b[38;5;28;43mint\u001b[39;49m\u001b[43m)\u001b[49m\n\u001b[32m    116\u001b[39m movies_data[\u001b[33m'\u001b[39m\u001b[33mduration\u001b[39m\u001b[33m'\u001b[39m] = pd.to_numeric(movies_data[\u001b[33m'\u001b[39m\u001b[33mduration\u001b[39m\u001b[33m'\u001b[39m], errors=\u001b[33m'\u001b[39m\u001b[33mcoerce\u001b[39m\u001b[33m'\u001b[39m).fillna(\u001b[32m90\u001b[39m)\n\u001b[32m    118\u001b[39m \u001b[38;5;66;03m# Fill missing overviews\u001b[39;00m\n",
      "\u001b[36mFile \u001b[39m\u001b[32m~\\AppData\\Local\\Programs\\Python\\Python312\\Lib\\site-packages\\pandas\\core\\generic.py:6643\u001b[39m, in \u001b[36mNDFrame.astype\u001b[39m\u001b[34m(self, dtype, copy, errors)\u001b[39m\n\u001b[32m   6637\u001b[39m     results = [\n\u001b[32m   6638\u001b[39m         ser.astype(dtype, copy=copy, errors=errors) \u001b[38;5;28;01mfor\u001b[39;00m _, ser \u001b[38;5;129;01min\u001b[39;00m \u001b[38;5;28mself\u001b[39m.items()\n\u001b[32m   6639\u001b[39m     ]\n\u001b[32m   6641\u001b[39m \u001b[38;5;28;01melse\u001b[39;00m:\n\u001b[32m   6642\u001b[39m     \u001b[38;5;66;03m# else, only a single dtype is given\u001b[39;00m\n\u001b[32m-> \u001b[39m\u001b[32m6643\u001b[39m     new_data = \u001b[38;5;28;43mself\u001b[39;49m\u001b[43m.\u001b[49m\u001b[43m_mgr\u001b[49m\u001b[43m.\u001b[49m\u001b[43mastype\u001b[49m\u001b[43m(\u001b[49m\u001b[43mdtype\u001b[49m\u001b[43m=\u001b[49m\u001b[43mdtype\u001b[49m\u001b[43m,\u001b[49m\u001b[43m \u001b[49m\u001b[43mcopy\u001b[49m\u001b[43m=\u001b[49m\u001b[43mcopy\u001b[49m\u001b[43m,\u001b[49m\u001b[43m \u001b[49m\u001b[43merrors\u001b[49m\u001b[43m=\u001b[49m\u001b[43merrors\u001b[49m\u001b[43m)\u001b[49m\n\u001b[32m   6644\u001b[39m     res = \u001b[38;5;28mself\u001b[39m._constructor_from_mgr(new_data, axes=new_data.axes)\n\u001b[32m   6645\u001b[39m     \u001b[38;5;28;01mreturn\u001b[39;00m res.__finalize__(\u001b[38;5;28mself\u001b[39m, method=\u001b[33m\"\u001b[39m\u001b[33mastype\u001b[39m\u001b[33m\"\u001b[39m)\n",
      "\u001b[36mFile \u001b[39m\u001b[32m~\\AppData\\Local\\Programs\\Python\\Python312\\Lib\\site-packages\\pandas\\core\\internals\\managers.py:430\u001b[39m, in \u001b[36mBaseBlockManager.astype\u001b[39m\u001b[34m(self, dtype, copy, errors)\u001b[39m\n\u001b[32m    427\u001b[39m \u001b[38;5;28;01melif\u001b[39;00m using_copy_on_write():\n\u001b[32m    428\u001b[39m     copy = \u001b[38;5;28;01mFalse\u001b[39;00m\n\u001b[32m--> \u001b[39m\u001b[32m430\u001b[39m \u001b[38;5;28;01mreturn\u001b[39;00m \u001b[38;5;28;43mself\u001b[39;49m\u001b[43m.\u001b[49m\u001b[43mapply\u001b[49m\u001b[43m(\u001b[49m\n\u001b[32m    431\u001b[39m \u001b[43m    \u001b[49m\u001b[33;43m\"\u001b[39;49m\u001b[33;43mastype\u001b[39;49m\u001b[33;43m\"\u001b[39;49m\u001b[43m,\u001b[49m\n\u001b[32m    432\u001b[39m \u001b[43m    \u001b[49m\u001b[43mdtype\u001b[49m\u001b[43m=\u001b[49m\u001b[43mdtype\u001b[49m\u001b[43m,\u001b[49m\n\u001b[32m    433\u001b[39m \u001b[43m    \u001b[49m\u001b[43mcopy\u001b[49m\u001b[43m=\u001b[49m\u001b[43mcopy\u001b[49m\u001b[43m,\u001b[49m\n\u001b[32m    434\u001b[39m \u001b[43m    \u001b[49m\u001b[43merrors\u001b[49m\u001b[43m=\u001b[49m\u001b[43merrors\u001b[49m\u001b[43m,\u001b[49m\n\u001b[32m    435\u001b[39m \u001b[43m    \u001b[49m\u001b[43musing_cow\u001b[49m\u001b[43m=\u001b[49m\u001b[43musing_copy_on_write\u001b[49m\u001b[43m(\u001b[49m\u001b[43m)\u001b[49m\u001b[43m,\u001b[49m\n\u001b[32m    436\u001b[39m \u001b[43m\u001b[49m\u001b[43m)\u001b[49m\n",
      "\u001b[36mFile \u001b[39m\u001b[32m~\\AppData\\Local\\Programs\\Python\\Python312\\Lib\\site-packages\\pandas\\core\\internals\\managers.py:363\u001b[39m, in \u001b[36mBaseBlockManager.apply\u001b[39m\u001b[34m(self, f, align_keys, **kwargs)\u001b[39m\n\u001b[32m    361\u001b[39m         applied = b.apply(f, **kwargs)\n\u001b[32m    362\u001b[39m     \u001b[38;5;28;01melse\u001b[39;00m:\n\u001b[32m--> \u001b[39m\u001b[32m363\u001b[39m         applied = \u001b[38;5;28;43mgetattr\u001b[39;49m\u001b[43m(\u001b[49m\u001b[43mb\u001b[49m\u001b[43m,\u001b[49m\u001b[43m \u001b[49m\u001b[43mf\u001b[49m\u001b[43m)\u001b[49m\u001b[43m(\u001b[49m\u001b[43m*\u001b[49m\u001b[43m*\u001b[49m\u001b[43mkwargs\u001b[49m\u001b[43m)\u001b[49m\n\u001b[32m    364\u001b[39m     result_blocks = extend_blocks(applied, result_blocks)\n\u001b[32m    366\u001b[39m out = \u001b[38;5;28mtype\u001b[39m(\u001b[38;5;28mself\u001b[39m).from_blocks(result_blocks, \u001b[38;5;28mself\u001b[39m.axes)\n",
      "\u001b[36mFile \u001b[39m\u001b[32m~\\AppData\\Local\\Programs\\Python\\Python312\\Lib\\site-packages\\pandas\\core\\internals\\blocks.py:758\u001b[39m, in \u001b[36mBlock.astype\u001b[39m\u001b[34m(self, dtype, copy, errors, using_cow, squeeze)\u001b[39m\n\u001b[32m    755\u001b[39m         \u001b[38;5;28;01mraise\u001b[39;00m \u001b[38;5;167;01mValueError\u001b[39;00m(\u001b[33m\"\u001b[39m\u001b[33mCan not squeeze with more than one column.\u001b[39m\u001b[33m\"\u001b[39m)\n\u001b[32m    756\u001b[39m     values = values[\u001b[32m0\u001b[39m, :]  \u001b[38;5;66;03m# type: ignore[call-overload]\u001b[39;00m\n\u001b[32m--> \u001b[39m\u001b[32m758\u001b[39m new_values = \u001b[43mastype_array_safe\u001b[49m\u001b[43m(\u001b[49m\u001b[43mvalues\u001b[49m\u001b[43m,\u001b[49m\u001b[43m \u001b[49m\u001b[43mdtype\u001b[49m\u001b[43m,\u001b[49m\u001b[43m \u001b[49m\u001b[43mcopy\u001b[49m\u001b[43m=\u001b[49m\u001b[43mcopy\u001b[49m\u001b[43m,\u001b[49m\u001b[43m \u001b[49m\u001b[43merrors\u001b[49m\u001b[43m=\u001b[49m\u001b[43merrors\u001b[49m\u001b[43m)\u001b[49m\n\u001b[32m    760\u001b[39m new_values = maybe_coerce_values(new_values)\n\u001b[32m    762\u001b[39m refs = \u001b[38;5;28;01mNone\u001b[39;00m\n",
      "\u001b[36mFile \u001b[39m\u001b[32m~\\AppData\\Local\\Programs\\Python\\Python312\\Lib\\site-packages\\pandas\\core\\dtypes\\astype.py:237\u001b[39m, in \u001b[36mastype_array_safe\u001b[39m\u001b[34m(values, dtype, copy, errors)\u001b[39m\n\u001b[32m    234\u001b[39m     dtype = dtype.numpy_dtype\n\u001b[32m    236\u001b[39m \u001b[38;5;28;01mtry\u001b[39;00m:\n\u001b[32m--> \u001b[39m\u001b[32m237\u001b[39m     new_values = \u001b[43mastype_array\u001b[49m\u001b[43m(\u001b[49m\u001b[43mvalues\u001b[49m\u001b[43m,\u001b[49m\u001b[43m \u001b[49m\u001b[43mdtype\u001b[49m\u001b[43m,\u001b[49m\u001b[43m \u001b[49m\u001b[43mcopy\u001b[49m\u001b[43m=\u001b[49m\u001b[43mcopy\u001b[49m\u001b[43m)\u001b[49m\n\u001b[32m    238\u001b[39m \u001b[38;5;28;01mexcept\u001b[39;00m (\u001b[38;5;167;01mValueError\u001b[39;00m, \u001b[38;5;167;01mTypeError\u001b[39;00m):\n\u001b[32m    239\u001b[39m     \u001b[38;5;66;03m# e.g. _astype_nansafe can fail on object-dtype of strings\u001b[39;00m\n\u001b[32m    240\u001b[39m     \u001b[38;5;66;03m#  trying to convert to float\u001b[39;00m\n\u001b[32m    241\u001b[39m     \u001b[38;5;28;01mif\u001b[39;00m errors == \u001b[33m\"\u001b[39m\u001b[33mignore\u001b[39m\u001b[33m\"\u001b[39m:\n",
      "\u001b[36mFile \u001b[39m\u001b[32m~\\AppData\\Local\\Programs\\Python\\Python312\\Lib\\site-packages\\pandas\\core\\dtypes\\astype.py:182\u001b[39m, in \u001b[36mastype_array\u001b[39m\u001b[34m(values, dtype, copy)\u001b[39m\n\u001b[32m    179\u001b[39m     values = values.astype(dtype, copy=copy)\n\u001b[32m    181\u001b[39m \u001b[38;5;28;01melse\u001b[39;00m:\n\u001b[32m--> \u001b[39m\u001b[32m182\u001b[39m     values = \u001b[43m_astype_nansafe\u001b[49m\u001b[43m(\u001b[49m\u001b[43mvalues\u001b[49m\u001b[43m,\u001b[49m\u001b[43m \u001b[49m\u001b[43mdtype\u001b[49m\u001b[43m,\u001b[49m\u001b[43m \u001b[49m\u001b[43mcopy\u001b[49m\u001b[43m=\u001b[49m\u001b[43mcopy\u001b[49m\u001b[43m)\u001b[49m\n\u001b[32m    184\u001b[39m \u001b[38;5;66;03m# in pandas we don't store numpy str dtypes, so convert to object\u001b[39;00m\n\u001b[32m    185\u001b[39m \u001b[38;5;28;01mif\u001b[39;00m \u001b[38;5;28misinstance\u001b[39m(dtype, np.dtype) \u001b[38;5;129;01mand\u001b[39;00m \u001b[38;5;28missubclass\u001b[39m(values.dtype.type, \u001b[38;5;28mstr\u001b[39m):\n",
      "\u001b[36mFile \u001b[39m\u001b[32m~\\AppData\\Local\\Programs\\Python\\Python312\\Lib\\site-packages\\pandas\\core\\dtypes\\astype.py:101\u001b[39m, in \u001b[36m_astype_nansafe\u001b[39m\u001b[34m(arr, dtype, copy, skipna)\u001b[39m\n\u001b[32m     96\u001b[39m     \u001b[38;5;28;01mreturn\u001b[39;00m lib.ensure_string_array(\n\u001b[32m     97\u001b[39m         arr, skipna=skipna, convert_na_value=\u001b[38;5;28;01mFalse\u001b[39;00m\n\u001b[32m     98\u001b[39m     ).reshape(shape)\n\u001b[32m    100\u001b[39m \u001b[38;5;28;01melif\u001b[39;00m np.issubdtype(arr.dtype, np.floating) \u001b[38;5;129;01mand\u001b[39;00m dtype.kind \u001b[38;5;129;01min\u001b[39;00m \u001b[33m\"\u001b[39m\u001b[33miu\u001b[39m\u001b[33m\"\u001b[39m:\n\u001b[32m--> \u001b[39m\u001b[32m101\u001b[39m     \u001b[38;5;28;01mreturn\u001b[39;00m \u001b[43m_astype_float_to_int_nansafe\u001b[49m\u001b[43m(\u001b[49m\u001b[43marr\u001b[49m\u001b[43m,\u001b[49m\u001b[43m \u001b[49m\u001b[43mdtype\u001b[49m\u001b[43m,\u001b[49m\u001b[43m \u001b[49m\u001b[43mcopy\u001b[49m\u001b[43m)\u001b[49m\n\u001b[32m    103\u001b[39m \u001b[38;5;28;01melif\u001b[39;00m arr.dtype == \u001b[38;5;28mobject\u001b[39m:\n\u001b[32m    104\u001b[39m     \u001b[38;5;66;03m# if we have a datetime/timedelta array of objects\u001b[39;00m\n\u001b[32m    105\u001b[39m     \u001b[38;5;66;03m# then coerce to datetime64[ns] and use DatetimeArray.astype\u001b[39;00m\n\u001b[32m    107\u001b[39m     \u001b[38;5;28;01mif\u001b[39;00m lib.is_np_dtype(dtype, \u001b[33m\"\u001b[39m\u001b[33mM\u001b[39m\u001b[33m\"\u001b[39m):\n",
      "\u001b[36mFile \u001b[39m\u001b[32m~\\AppData\\Local\\Programs\\Python\\Python312\\Lib\\site-packages\\pandas\\core\\dtypes\\astype.py:145\u001b[39m, in \u001b[36m_astype_float_to_int_nansafe\u001b[39m\u001b[34m(values, dtype, copy)\u001b[39m\n\u001b[32m    141\u001b[39m \u001b[38;5;250m\u001b[39m\u001b[33;03m\"\"\"\u001b[39;00m\n\u001b[32m    142\u001b[39m \u001b[33;03mastype with a check preventing converting NaN to an meaningless integer value.\u001b[39;00m\n\u001b[32m    143\u001b[39m \u001b[33;03m\"\"\"\u001b[39;00m\n\u001b[32m    144\u001b[39m \u001b[38;5;28;01mif\u001b[39;00m \u001b[38;5;129;01mnot\u001b[39;00m np.isfinite(values).all():\n\u001b[32m--> \u001b[39m\u001b[32m145\u001b[39m     \u001b[38;5;28;01mraise\u001b[39;00m IntCastingNaNError(\n\u001b[32m    146\u001b[39m         \u001b[33m\"\u001b[39m\u001b[33mCannot convert non-finite values (NA or inf) to integer\u001b[39m\u001b[33m\"\u001b[39m\n\u001b[32m    147\u001b[39m     )\n\u001b[32m    148\u001b[39m \u001b[38;5;28;01mif\u001b[39;00m dtype.kind == \u001b[33m\"\u001b[39m\u001b[33mu\u001b[39m\u001b[33m\"\u001b[39m:\n\u001b[32m    149\u001b[39m     \u001b[38;5;66;03m# GH#45151\u001b[39;00m\n\u001b[32m    150\u001b[39m     \u001b[38;5;28;01mif\u001b[39;00m \u001b[38;5;129;01mnot\u001b[39;00m (values >= \u001b[32m0\u001b[39m).all():\n",
      "\u001b[31mIntCastingNaNError\u001b[39m: Cannot convert non-finite values (NA or inf) to integer"
     ]
    }
   ],
   "source": [
    "movies_data = load_and_clean_data()\n",
    "ratings_df = pd.read_csv('../data/ratings.csv')"
   ]
  },
  {
   "cell_type": "code",
   "execution_count": 4,
   "id": "8cc9233f-2038-4812-ac43-79e1091a10a9",
   "metadata": {},
   "outputs": [
    {
     "name": "stdout",
     "output_type": "stream",
     "text": [
      "Movies Data:\n"
     ]
    },
    {
     "data": {
      "text/html": [
       "<div>\n",
       "<style scoped>\n",
       "    .dataframe tbody tr th:only-of-type {\n",
       "        vertical-align: middle;\n",
       "    }\n",
       "\n",
       "    .dataframe tbody tr th {\n",
       "        vertical-align: top;\n",
       "    }\n",
       "\n",
       "    .dataframe thead th {\n",
       "        text-align: right;\n",
       "    }\n",
       "</style>\n",
       "<table border=\"1\" class=\"dataframe\">\n",
       "  <thead>\n",
       "    <tr style=\"text-align: right;\">\n",
       "      <th></th>\n",
       "      <th>movieId</th>\n",
       "      <th>title</th>\n",
       "      <th>genres</th>\n",
       "    </tr>\n",
       "  </thead>\n",
       "  <tbody>\n",
       "    <tr>\n",
       "      <th>0</th>\n",
       "      <td>1</td>\n",
       "      <td>Toy Story (1995)</td>\n",
       "      <td>Adventure|Animation|Children|Comedy|Fantasy</td>\n",
       "    </tr>\n",
       "    <tr>\n",
       "      <th>1</th>\n",
       "      <td>2</td>\n",
       "      <td>Jumanji (1995)</td>\n",
       "      <td>Adventure|Children|Fantasy</td>\n",
       "    </tr>\n",
       "  </tbody>\n",
       "</table>\n",
       "</div>"
      ],
      "text/plain": [
       "   movieId             title                                       genres\n",
       "0        1  Toy Story (1995)  Adventure|Animation|Children|Comedy|Fantasy\n",
       "1        2    Jumanji (1995)                   Adventure|Children|Fantasy"
      ]
     },
     "metadata": {},
     "output_type": "display_data"
    },
    {
     "name": "stdout",
     "output_type": "stream",
     "text": [
      "\n",
      "Ratings Data:\n"
     ]
    },
    {
     "data": {
      "text/html": [
       "<div>\n",
       "<style scoped>\n",
       "    .dataframe tbody tr th:only-of-type {\n",
       "        vertical-align: middle;\n",
       "    }\n",
       "\n",
       "    .dataframe tbody tr th {\n",
       "        vertical-align: top;\n",
       "    }\n",
       "\n",
       "    .dataframe thead th {\n",
       "        text-align: right;\n",
       "    }\n",
       "</style>\n",
       "<table border=\"1\" class=\"dataframe\">\n",
       "  <thead>\n",
       "    <tr style=\"text-align: right;\">\n",
       "      <th></th>\n",
       "      <th>userId</th>\n",
       "      <th>movieId</th>\n",
       "      <th>rating</th>\n",
       "      <th>timestamp</th>\n",
       "    </tr>\n",
       "  </thead>\n",
       "  <tbody>\n",
       "    <tr>\n",
       "      <th>0</th>\n",
       "      <td>1</td>\n",
       "      <td>1</td>\n",
       "      <td>4.0</td>\n",
       "      <td>964982703</td>\n",
       "    </tr>\n",
       "    <tr>\n",
       "      <th>1</th>\n",
       "      <td>1</td>\n",
       "      <td>3</td>\n",
       "      <td>4.0</td>\n",
       "      <td>964981247</td>\n",
       "    </tr>\n",
       "  </tbody>\n",
       "</table>\n",
       "</div>"
      ],
      "text/plain": [
       "   userId  movieId  rating  timestamp\n",
       "0       1        1     4.0  964982703\n",
       "1       1        3     4.0  964981247"
      ]
     },
     "metadata": {},
     "output_type": "display_data"
    }
   ],
   "source": [
    "print(\"Movies Data:\")\n",
    "display(movies_df.head(2))\n",
    "print(\"\\nRatings Data:\")\n",
    "display(ratings_df.head(2))"
   ]
  },
  {
   "cell_type": "code",
   "execution_count": 5,
   "id": "d583e2a4-26ad-4dc9-bf97-e884db381f1c",
   "metadata": {
    "scrolled": true
   },
   "outputs": [],
   "source": [
    "# Data preprocessing\n",
    "movies_data = load_and_clean_data()\n",
    "movies_data = fetch_posters(movies_data)"
   ]
  },
  {
   "cell_type": "code",
   "execution_count": 6,
   "id": "27354e4e-34ae-4c54-8700-fbf2babccade",
   "metadata": {},
   "outputs": [
    {
     "name": "stderr",
     "output_type": "stream",
     "text": [
      "C:\\Temp\\ipykernel_3804\\2136772207.py:4: FutureWarning: \n",
      "\n",
      "Passing `palette` without assigning `hue` is deprecated and will be removed in v0.14.0. Assign the `y` variable to `hue` and set `legend=False` for the same effect.\n",
      "\n",
      "  sns.barplot(x=genre_counts.values, y=genre_counts.index, palette='viridis')\n"
     ]
    },
    {
     "data": {
      "image/png": "[encoded data removed]",
      "text/plain": [
       "<Figure size 1200x600 with 1 Axes>"
      ]
     },
     "metadata": {},
     "output_type": "display_data"
    }
   ],
   "source": [
    "genre_counts = pd.Series([genre for genres in movies_data['genres'] for genre in genres]).value_counts()\n",
    "\n",
    "plt.figure(figsize=(12,6))\n",
    "sns.barplot(x=genre_counts.values, y=genre_counts.index, palette='viridis')\n",
    "plt.title('Movie Genre Distribution')\n",
    "plt.xlabel('Count')\n",
    "plt.ylabel('Genre')\n",
    "plt.show()"
   ]
  },
  {
   "cell_type": "code",
   "execution_count": 7,
   "id": "303154b5-cda2-4d8d-8b73-8a2a62303642",
   "metadata": {},
   "outputs": [
    {
     "name": "stderr",
     "output_type": "stream",
     "text": [
      "C:\\Temp\\ipykernel_3804\\1784039753.py:3: FutureWarning: \n",
      "\n",
      "Passing `palette` without assigning `hue` is deprecated and will be removed in v0.14.0. Assign the `x` variable to `hue` and set `legend=False` for the same effect.\n",
      "\n",
      "  sns.countplot(x='rating', data=ratings_df, palette='coolwarm')\n"
     ]
    },
    {
     "data": {
      "image/png": "[encoded data removed]",
      "text/plain": [
       "<Figure size 1000x600 with 1 Axes>"
      ]
     },
     "metadata": {},
     "output_type": "display_data"
    }
   ],
   "source": [
    "# Ratings analysis\n",
    "plt.figure(figsize=(10,6))\n",
    "sns.countplot(x='rating', data=ratings_df, palette='coolwarm')\n",
    "plt.title('User Rating Distribution')\n",
    "plt.show()"
   ]
  },
  {
   "cell_type": "code",
   "execution_count": 8,
   "id": "ce345422-f251-4a47-8ef8-d7d1ca37f617",
   "metadata": {},
   "outputs": [],
   "source": [
    "engine = RecommendationEngine(movies_data, ratings_df)\n",
    "engine.initialize_models()\n"
   ]
  },
  {
   "cell_type": "code",
   "execution_count": 9,
   "id": "d6228af0-c810-4792-bed0-2c95762979e9",
   "metadata": {},
   "outputs": [
    {
     "name": "stdout",
     "output_type": "stream",
     "text": [
      "Recommendations for 'Toy Story':\n"
     ]
    },
    {
     "data": {
      "text/html": [
       "<div>\n",
       "<style scoped>\n",
       "    .dataframe tbody tr th:only-of-type {\n",
       "        vertical-align: middle;\n",
       "    }\n",
       "\n",
       "    .dataframe tbody tr th {\n",
       "        vertical-align: top;\n",
       "    }\n",
       "\n",
       "    .dataframe thead th {\n",
       "        text-align: right;\n",
       "    }\n",
       "</style>\n",
       "<table border=\"1\" class=\"dataframe\">\n",
       "  <thead>\n",
       "    <tr style=\"text-align: right;\">\n",
       "      <th></th>\n",
       "      <th>title</th>\n",
       "      <th>genres</th>\n",
       "      <th>poster_path</th>\n",
       "    </tr>\n",
       "  </thead>\n",
       "  <tbody>\n",
       "    <tr>\n",
       "      <th>7355</th>\n",
       "      <td>Toy Story 3 2010</td>\n",
       "      <td>[Adventure, Animation, Children, Comedy, Fanta...</td>\n",
       "      <td>https://image.tmdb.org/t/p/w500/AbbXspMOwdvwWZ...</td>\n",
       "    </tr>\n",
       "    <tr>\n",
       "      <th>0</th>\n",
       "      <td>Toy Story 1995</td>\n",
       "      <td>[Adventure, Animation, Children, Comedy, Fantasy]</td>\n",
       "      <td>https://image.tmdb.org/t/p/w500/uXDfjJbdP4ijW5...</td>\n",
       "    </tr>\n",
       "    <tr>\n",
       "      <th>2355</th>\n",
       "      <td>Toy Story 2 1999</td>\n",
       "      <td>[Adventure, Animation, Children, Comedy, Fantasy]</td>\n",
       "      <td>https://image.tmdb.org/t/p/w500/yFWQkz2ynjwsaz...</td>\n",
       "    </tr>\n",
       "    <tr>\n",
       "      <th>3595</th>\n",
       "      <td>Toy The 1982</td>\n",
       "      <td>[Comedy]</td>\n",
       "      <td>https://image.tmdb.org/t/p/w500/yt7Z37Uo2zls64...</td>\n",
       "    </tr>\n",
       "    <tr>\n",
       "      <th>4089</th>\n",
       "      <td>Toy Soldiers 1991</td>\n",
       "      <td>[Action, Drama]</td>\n",
       "      <td>https://image.tmdb.org/t/p/w500/nL3ccvqU1Wq1j3...</td>\n",
       "    </tr>\n",
       "    <tr>\n",
       "      <th>8736</th>\n",
       "      <td>True Story 2015</td>\n",
       "      <td>[Drama, Mystery, Thriller]</td>\n",
       "      <td>https://image.tmdb.org/t/p/w500/ncP8XQ0bXP0xSp...</td>\n",
       "    </tr>\n",
       "    <tr>\n",
       "      <th>1570</th>\n",
       "      <td>LA Story 1991</td>\n",
       "      <td>[Comedy, Romance]</td>\n",
       "      <td>https://image.tmdb.org/t/p/w500/dVDCImNu9lM3MT...</td>\n",
       "    </tr>\n",
       "    <tr>\n",
       "      <th>3187</th>\n",
       "      <td>Love Story 1970</td>\n",
       "      <td>[Drama, Romance]</td>\n",
       "      <td>https://image.tmdb.org/t/p/w500/5A7SGcT1GlhWfH...</td>\n",
       "    </tr>\n",
       "    <tr>\n",
       "      <th>9548</th>\n",
       "      <td>Kids Story 2003</td>\n",
       "      <td>[Animation, Sci-Fi]</td>\n",
       "      <td>https://image.tmdb.org/t/p/w500/SteXNwc3hRV9o2...</td>\n",
       "    </tr>\n",
       "    <tr>\n",
       "      <th>5264</th>\n",
       "      <td>Cinderella Story A 2004</td>\n",
       "      <td>[Comedy, Romance]</td>\n",
       "      <td>https://image.tmdb.org/t/p/w500/ukwP7gDPWxj1R1...</td>\n",
       "    </tr>\n",
       "  </tbody>\n",
       "</table>\n",
       "</div>"
      ],
      "text/plain": [
       "                        title  \\\n",
       "7355         Toy Story 3 2010   \n",
       "0              Toy Story 1995   \n",
       "2355         Toy Story 2 1999   \n",
       "3595             Toy The 1982   \n",
       "4089        Toy Soldiers 1991   \n",
       "8736          True Story 2015   \n",
       "1570            LA Story 1991   \n",
       "3187          Love Story 1970   \n",
       "9548          Kids Story 2003   \n",
       "5264  Cinderella Story A 2004   \n",
       "\n",
       "                                                 genres  \\\n",
       "7355  [Adventure, Animation, Children, Comedy, Fanta...   \n",
       "0     [Adventure, Animation, Children, Comedy, Fantasy]   \n",
       "2355  [Adventure, Animation, Children, Comedy, Fantasy]   \n",
       "3595                                           [Comedy]   \n",
       "4089                                    [Action, Drama]   \n",
       "8736                         [Drama, Mystery, Thriller]   \n",
       "1570                                  [Comedy, Romance]   \n",
       "3187                                   [Drama, Romance]   \n",
       "9548                                [Animation, Sci-Fi]   \n",
       "5264                                  [Comedy, Romance]   \n",
       "\n",
       "                                            poster_path  \n",
       "7355  https://image.tmdb.org/t/p/w500/AbbXspMOwdvwWZ...  \n",
       "0     https://image.tmdb.org/t/p/w500/uXDfjJbdP4ijW5...  \n",
       "2355  https://image.tmdb.org/t/p/w500/yFWQkz2ynjwsaz...  \n",
       "3595  https://image.tmdb.org/t/p/w500/yt7Z37Uo2zls64...  \n",
       "4089  https://image.tmdb.org/t/p/w500/nL3ccvqU1Wq1j3...  \n",
       "8736  https://image.tmdb.org/t/p/w500/ncP8XQ0bXP0xSp...  \n",
       "1570  https://image.tmdb.org/t/p/w500/dVDCImNu9lM3MT...  \n",
       "3187  https://image.tmdb.org/t/p/w500/5A7SGcT1GlhWfH...  \n",
       "9548  https://image.tmdb.org/t/p/w500/SteXNwc3hRV9o2...  \n",
       "5264  https://image.tmdb.org/t/p/w500/ukwP7gDPWxj1R1...  "
      ]
     },
     "metadata": {},
     "output_type": "display_data"
    }
   ],
   "source": [
    "# Content-based filtering test\n",
    "def test_content_recommendations(movie_title):\n",
    "    results = engine.search_by_title(movie_title)\n",
    "    print(f\"Recommendations for '{movie_title}':\")\n",
    "    display(results[['title', 'genres', 'poster_path']])\n",
    "\n",
    "test_content_recommendations(\"Toy Story\")"
   ]
  },
  {
   "cell_type": "code",
   "execution_count": 10,
   "id": "4dc84d07-69c8-4670-8c17-3c85ea4de1b6",
   "metadata": {},
   "outputs": [
    {
     "name": "stdout",
     "output_type": "stream",
     "text": [
      "Recommendations for user 1:\n"
     ]
    },
    {
     "data": {
      "text/html": [
       "<div>\n",
       "<style scoped>\n",
       "    .dataframe tbody tr th:only-of-type {\n",
       "        vertical-align: middle;\n",
       "    }\n",
       "\n",
       "    .dataframe tbody tr th {\n",
       "        vertical-align: top;\n",
       "    }\n",
       "\n",
       "    .dataframe thead th {\n",
       "        text-align: right;\n",
       "    }\n",
       "</style>\n",
       "<table border=\"1\" class=\"dataframe\">\n",
       "  <thead>\n",
       "    <tr style=\"text-align: right;\">\n",
       "      <th></th>\n",
       "      <th>title</th>\n",
       "      <th>genres</th>\n",
       "      <th>poster_path</th>\n",
       "      <th>avg_rating</th>\n",
       "    </tr>\n",
       "  </thead>\n",
       "  <tbody>\n",
       "    <tr>\n",
       "      <th>3</th>\n",
       "      <td>Seven aka Se7en 1995</td>\n",
       "      <td>[Mystery, Thriller]</td>\n",
       "      <td>https://image.tmdb.org/t/p/w500/191nKfP0ehp3uI...</td>\n",
       "      <td>3.975369</td>\n",
       "    </tr>\n",
       "    <tr>\n",
       "      <th>7</th>\n",
       "      <td>Rob Roy 1995</td>\n",
       "      <td>[Action, Drama, Romance, War]</td>\n",
       "      <td>https://image.tmdb.org/t/p/w500/nl7Lg6VqR9h1Z9...</td>\n",
       "      <td>3.545455</td>\n",
       "    </tr>\n",
       "    <tr>\n",
       "      <th>5</th>\n",
       "      <td>Bottle Rocket 1996</td>\n",
       "      <td>[Adventure, Comedy, Crime, Romance]</td>\n",
       "      <td>https://image.tmdb.org/t/p/w500/6E7mJ5wpzTFbYF...</td>\n",
       "      <td>3.782609</td>\n",
       "    </tr>\n",
       "    <tr>\n",
       "      <th>4</th>\n",
       "      <td>Usual Suspects The 1995</td>\n",
       "      <td>[Crime, Mystery, Thriller]</td>\n",
       "      <td>https://image.tmdb.org/t/p/w500/rWbsxdwF9qQzpT...</td>\n",
       "      <td>4.237745</td>\n",
       "    </tr>\n",
       "    <tr>\n",
       "      <th>11</th>\n",
       "      <td>Dumb  Dumber Dumb and Dumber 1994</td>\n",
       "      <td>[Adventure, Comedy]</td>\n",
       "      <td>https://image.tmdb.org/t/p/w500/4LdpBXiCyGKkR8...</td>\n",
       "      <td>3.060150</td>\n",
       "    </tr>\n",
       "    <tr>\n",
       "      <th>10</th>\n",
       "      <td>Billy Madison 1995</td>\n",
       "      <td>[Comedy]</td>\n",
       "      <td>https://image.tmdb.org/t/p/w500/sOdgtJdFalL9kR...</td>\n",
       "      <td>3.326531</td>\n",
       "    </tr>\n",
       "    <tr>\n",
       "      <th>9</th>\n",
       "      <td>Desperado 1995</td>\n",
       "      <td>[Action, Romance, Western]</td>\n",
       "      <td>https://image.tmdb.org/t/p/w500/e3gwpBeXpvGZsx...</td>\n",
       "      <td>3.560606</td>\n",
       "    </tr>\n",
       "    <tr>\n",
       "      <th>8</th>\n",
       "      <td>Canadian Bacon 1995</td>\n",
       "      <td>[Comedy, War]</td>\n",
       "      <td>https://image.tmdb.org/t/p/w500/bzK2aQ8xUB67kw...</td>\n",
       "      <td>2.863636</td>\n",
       "    </tr>\n",
       "    <tr>\n",
       "      <th>68</th>\n",
       "      <td>Terminator The 1984</td>\n",
       "      <td>[Action, Sci-Fi, Thriller]</td>\n",
       "      <td>https://image.tmdb.org/t/p/w500/hzXSE66v6KthZ8...</td>\n",
       "      <td>3.896947</td>\n",
       "    </tr>\n",
       "    <tr>\n",
       "      <th>69</th>\n",
       "      <td>Duck Soup 1933</td>\n",
       "      <td>[Comedy, Musical, War]</td>\n",
       "      <td>https://image.tmdb.org/t/p/w500/31t63plEGKHhYu...</td>\n",
       "      <td>3.804348</td>\n",
       "    </tr>\n",
       "  </tbody>\n",
       "</table>\n",
       "</div>"
      ],
      "text/plain": [
       "                                title                               genres  \\\n",
       "3                Seven aka Se7en 1995                  [Mystery, Thriller]   \n",
       "7                        Rob Roy 1995        [Action, Drama, Romance, War]   \n",
       "5                  Bottle Rocket 1996  [Adventure, Comedy, Crime, Romance]   \n",
       "4             Usual Suspects The 1995           [Crime, Mystery, Thriller]   \n",
       "11  Dumb  Dumber Dumb and Dumber 1994                  [Adventure, Comedy]   \n",
       "10                 Billy Madison 1995                             [Comedy]   \n",
       "9                      Desperado 1995           [Action, Romance, Western]   \n",
       "8                 Canadian Bacon 1995                        [Comedy, War]   \n",
       "68                Terminator The 1984           [Action, Sci-Fi, Thriller]   \n",
       "69                     Duck Soup 1933               [Comedy, Musical, War]   \n",
       "\n",
       "                                          poster_path  avg_rating  \n",
       "3   https://image.tmdb.org/t/p/w500/191nKfP0ehp3uI...    3.975369  \n",
       "7   https://image.tmdb.org/t/p/w500/nl7Lg6VqR9h1Z9...    3.545455  \n",
       "5   https://image.tmdb.org/t/p/w500/6E7mJ5wpzTFbYF...    3.782609  \n",
       "4   https://image.tmdb.org/t/p/w500/rWbsxdwF9qQzpT...    4.237745  \n",
       "11  https://image.tmdb.org/t/p/w500/4LdpBXiCyGKkR8...    3.060150  \n",
       "10  https://image.tmdb.org/t/p/w500/sOdgtJdFalL9kR...    3.326531  \n",
       "9   https://image.tmdb.org/t/p/w500/e3gwpBeXpvGZsx...    3.560606  \n",
       "8   https://image.tmdb.org/t/p/w500/bzK2aQ8xUB67kw...    2.863636  \n",
       "68  https://image.tmdb.org/t/p/w500/hzXSE66v6KthZ8...    3.896947  \n",
       "69  https://image.tmdb.org/t/p/w500/31t63plEGKHhYu...    3.804348  "
      ]
     },
     "metadata": {},
     "output_type": "display_data"
    }
   ],
   "source": [
    "# Collaborative filtering test\n",
    "def test_collaborative_recommendations(user_id):\n",
    "    results = engine.get_collaborative_recommendations(user_id)\n",
    "    print(f\"Recommendations for user {user_id}:\")\n",
    "    display(results[['title', 'genres', 'poster_path', 'avg_rating']])\n",
    "\n",
    "test_collaborative_recommendations(1)"
   ]
  },
  {
   "cell_type": "code",
   "execution_count": 11,
   "id": "4a641594-826e-4fbb-89e6-0f1c01d4af06",
   "metadata": {},
   "outputs": [
    {
     "name": "stdout",
     "output_type": "stream",
     "text": [
      "Hybrid recommendations based on 'Matrix':\n"
     ]
    },
    {
     "data": {
      "text/html": [
       "<div>\n",
       "<style scoped>\n",
       "    .dataframe tbody tr th:only-of-type {\n",
       "        vertical-align: middle;\n",
       "    }\n",
       "\n",
       "    .dataframe tbody tr th {\n",
       "        vertical-align: top;\n",
       "    }\n",
       "\n",
       "    .dataframe thead th {\n",
       "        text-align: right;\n",
       "    }\n",
       "</style>\n",
       "<table border=\"1\" class=\"dataframe\">\n",
       "  <thead>\n",
       "    <tr style=\"text-align: right;\">\n",
       "      <th></th>\n",
       "      <th>title</th>\n",
       "      <th>genres</th>\n",
       "      <th>poster_path</th>\n",
       "      <th>score</th>\n",
       "    </tr>\n",
       "  </thead>\n",
       "  <tbody>\n",
       "    <tr>\n",
       "      <th>0</th>\n",
       "      <td>Matrix The 1999</td>\n",
       "      <td>[Action, Sci-Fi, Thriller]</td>\n",
       "      <td>https://image.tmdb.org/t/p/w500/dXNAPwY7VrqMAo...</td>\n",
       "      <td>0.654455</td>\n",
       "    </tr>\n",
       "    <tr>\n",
       "      <th>2</th>\n",
       "      <td>Matrix Reloaded The 2003</td>\n",
       "      <td>[Action, Adventure, Sci-Fi, Thriller, IMAX]</td>\n",
       "      <td>https://image.tmdb.org/t/p/w500/9TGHDvWrqKBzwD...</td>\n",
       "      <td>0.503437</td>\n",
       "    </tr>\n",
       "    <tr>\n",
       "      <th>1</th>\n",
       "      <td>Matrix Revolutions The 2003</td>\n",
       "      <td>[Action, Adventure, Sci-Fi, Thriller, IMAX]</td>\n",
       "      <td>https://image.tmdb.org/t/p/w500/t1wm4PgOQ8e4z1...</td>\n",
       "      <td>0.491301</td>\n",
       "    </tr>\n",
       "    <tr>\n",
       "      <th>29</th>\n",
       "      <td>Sorry to Bother You 2018</td>\n",
       "      <td>[Comedy, Fantasy, Sci-Fi]</td>\n",
       "      <td>https://image.tmdb.org/t/p/w500/peTl1V04E9ppvh...</td>\n",
       "      <td>0.270000</td>\n",
       "    </tr>\n",
       "    <tr>\n",
       "      <th>8</th>\n",
       "      <td>Andrew Dice Clay Dice Rules 1991</td>\n",
       "      <td>[Comedy]</td>\n",
       "      <td>https://image.tmdb.org/t/p/w500/yXmkQVETaCr8BH...</td>\n",
       "      <td>0.240000</td>\n",
       "    </tr>\n",
       "    <tr>\n",
       "      <th>22</th>\n",
       "      <td>Heat 1995</td>\n",
       "      <td>[Action, Crime, Thriller]</td>\n",
       "      <td>https://image.tmdb.org/t/p/w500/umSVjVdbVwtx5r...</td>\n",
       "      <td>0.236765</td>\n",
       "    </tr>\n",
       "    <tr>\n",
       "      <th>4</th>\n",
       "      <td>Casino 1995</td>\n",
       "      <td>[Crime, Drama]</td>\n",
       "      <td>https://image.tmdb.org/t/p/w500/gziIkUSnYuj9Ch...</td>\n",
       "      <td>0.235610</td>\n",
       "    </tr>\n",
       "    <tr>\n",
       "      <th>7</th>\n",
       "      <td>Toy Story 1995</td>\n",
       "      <td>[Adventure, Animation, Children, Comedy, Fantasy]</td>\n",
       "      <td>https://image.tmdb.org/t/p/w500/uXDfjJbdP4ijW5...</td>\n",
       "      <td>0.235256</td>\n",
       "    </tr>\n",
       "    <tr>\n",
       "      <th>14</th>\n",
       "      <td>Nixon 1995</td>\n",
       "      <td>[Drama]</td>\n",
       "      <td>https://image.tmdb.org/t/p/w500/8O2sBYJq0K0EMp...</td>\n",
       "      <td>0.230000</td>\n",
       "    </tr>\n",
       "    <tr>\n",
       "      <th>5</th>\n",
       "      <td>Sense and Sensibility 1995</td>\n",
       "      <td>[Drama, Romance]</td>\n",
       "      <td>https://image.tmdb.org/t/p/w500/cBK2yL3HqhFvIV...</td>\n",
       "      <td>0.226567</td>\n",
       "    </tr>\n",
       "  </tbody>\n",
       "</table>\n",
       "</div>"
      ],
      "text/plain": [
       "                               title  \\\n",
       "0                    Matrix The 1999   \n",
       "2           Matrix Reloaded The 2003   \n",
       "1        Matrix Revolutions The 2003   \n",
       "29          Sorry to Bother You 2018   \n",
       "8   Andrew Dice Clay Dice Rules 1991   \n",
       "22                         Heat 1995   \n",
       "4                        Casino 1995   \n",
       "7                     Toy Story 1995   \n",
       "14                        Nixon 1995   \n",
       "5         Sense and Sensibility 1995   \n",
       "\n",
       "                                               genres  \\\n",
       "0                          [Action, Sci-Fi, Thriller]   \n",
       "2         [Action, Adventure, Sci-Fi, Thriller, IMAX]   \n",
       "1         [Action, Adventure, Sci-Fi, Thriller, IMAX]   \n",
       "29                          [Comedy, Fantasy, Sci-Fi]   \n",
       "8                                            [Comedy]   \n",
       "22                          [Action, Crime, Thriller]   \n",
       "4                                      [Crime, Drama]   \n",
       "7   [Adventure, Animation, Children, Comedy, Fantasy]   \n",
       "14                                            [Drama]   \n",
       "5                                    [Drama, Romance]   \n",
       "\n",
       "                                          poster_path     score  \n",
       "0   https://image.tmdb.org/t/p/w500/dXNAPwY7VrqMAo...  0.654455  \n",
       "2   https://image.tmdb.org/t/p/w500/9TGHDvWrqKBzwD...  0.503437  \n",
       "1   https://image.tmdb.org/t/p/w500/t1wm4PgOQ8e4z1...  0.491301  \n",
       "29  https://image.tmdb.org/t/p/w500/peTl1V04E9ppvh...  0.270000  \n",
       "8   https://image.tmdb.org/t/p/w500/yXmkQVETaCr8BH...  0.240000  \n",
       "22  https://image.tmdb.org/t/p/w500/umSVjVdbVwtx5r...  0.236765  \n",
       "4   https://image.tmdb.org/t/p/w500/gziIkUSnYuj9Ch...  0.235610  \n",
       "7   https://image.tmdb.org/t/p/w500/uXDfjJbdP4ijW5...  0.235256  \n",
       "14  https://image.tmdb.org/t/p/w500/8O2sBYJq0K0EMp...  0.230000  \n",
       "5   https://image.tmdb.org/t/p/w500/cBK2yL3HqhFvIV...  0.226567  "
      ]
     },
     "metadata": {},
     "output_type": "display_data"
    }
   ],
   "source": [
    "# Hybrid recommendations test\n",
    "def test_hybrid_recommendations(user_input):\n",
    "    results = engine.hybrid_recommendation(user_input)\n",
    "    print(f\"Hybrid recommendations based on '{user_input}':\")\n",
    "    display(results[['title', 'genres', 'poster_path', 'score']])\n",
    "\n",
    "test_hybrid_recommendations(\"Matrix\")"
   ]
  },
  {
   "cell_type": "code",
   "execution_count": 12,
   "id": "a042d3dc-e4da-49ca-8961-bf422b0ea2ec",
   "metadata": {},
   "outputs": [],
   "source": [
    "# Model persistence test\n",
    "engine.save_models(\"../model/recommendation_models.pkl\")\n"
   ]
  },
  {
   "cell_type": "code",
   "execution_count": 13,
   "id": "94934e18-f20e-453a-a958-3af363b4e26e",
   "metadata": {},
   "outputs": [],
   "source": [
    "# Verify model loading\n",
    "new_engine = RecommendationEngine(movies_data, ratings_df)\n",
    "new_engine.load_models(\"../model/recommendation_models.pkl\")"
   ]
  },
  {
   "cell_type": "code",
   "execution_count": 14,
   "id": "0a8ac262-d742-46a3-94ed-a6492d461fec",
   "metadata": {},
   "outputs": [
    {
     "name": "stderr",
     "output_type": "stream",
     "text": [
      "[NbConvertApp] Converting notebook model.ipynb to script\n",
      "[NbConvertApp] Writing 5224 bytes to ..\\model\\model.py\n"
     ]
    }
   ],
   "source": [
    "!jupyter nbconvert --to script model.ipynb --output-dir ../model"
   ]
  },
  {
   "cell_type": "code",
   "execution_count": 15,
   "id": "d211405f-689d-47f2-baf3-d86b78a6d7bc",
   "metadata": {},
   "outputs": [],
   "source": [
    "def verify_posters(movies_data, sample_size=5):\n",
    "    # Check random posters\n",
    "    sample = movies_data[movies_data['poster_path'].notna()].sample(sample_size)\n",
    "    \n",
    "    for idx, row in sample.iterrows():\n",
    "        print(f\"\\nMovie: {row['title']}\")\n",
    "        print(f\"Poster URL: {row['poster_path']}\")\n",
    "        print(f\"HTTP Status: {requests.head(row['poster_path']).status_code}\")  # Check URL validity"
   ]
  },
  {
   "cell_type": "code",
   "execution_count": 22,
   "id": "9b68f029-b7e0-4cef-b7d0-163a5dbee7e1",
   "metadata": {},
   "outputs": [
    {
     "name": "stdout",
     "output_type": "stream",
     "text": [
      "\n",
      "Movie: 5 Centimeters per Second Bysoku 5 senchimtoru 2007\n",
      "Poster URL: https://image.tmdb.org/t/p/w500/dFipUR6W0y3PPkuVS8gjFd929m2.jpg\n",
      "HTTP Status: 200\n",
      "\n",
      "Movie: Police Academy 5 Assignment Miami Beach 1988\n",
      "Poster URL: https://image.tmdb.org/t/p/w500/8w1SqGceTYHbVmXh8JHdWHza2SF.jpg\n",
      "HTTP Status: 200\n",
      "\n",
      "Movie: Friday the 13th 1980\n",
      "Poster URL: https://image.tmdb.org/t/p/w500/uGGpnWHOmWTARVN9wbC1nPxNgps.jpg\n",
      "HTTP Status: 200\n",
      "\n",
      "Movie: With a Friend Like Harry Harry un ami qui vous veut du bien 2000\n",
      "Poster URL: https://image.tmdb.org/t/p/w500/dZV9UTyHJ4LD4ntWudWyqBNhb8I.jpg\n",
      "HTTP Status: 200\n",
      "\n",
      "Movie: Samoura Le Godson The 1967\n",
      "Poster URL: https://image.tmdb.org/t/p/w500/5Fa6o5nfUPEatQ9b3OwEvdEdR7T.jpg\n",
      "HTTP Status: 200\n"
     ]
    }
   ],
   "source": [
    "import requests  # Add this import at the top of your notebook/script\n",
    "\n",
    "def verify_posters(movies_data, sample_size=5):\n",
    "    # Check random posters\n",
    "    sample = movies_data[movies_data['poster_path'].notna()].sample(sample_size)\n",
    "    \n",
    "    for idx, row in sample.iterrows():\n",
    "        print(f\"\\nMovie: {row['title']}\")\n",
    "        print(f\"Poster URL: {row['poster_path']}\")\n",
    "        try:\n",
    "            response = requests.head(row['poster_path'], timeout=5)\n",
    "            print(f\"HTTP Status: {response.status_code}\")\n",
    "        except Exception as e:\n",
    "            print(f\"Connection Error: {str(e)}\")\n",
    "\n",
    "# Now run the verification\n",
    "verify_posters(movies_data)"
   ]
  },
  {
   "cell_type": "code",
   "execution_count": 23,
   "id": "97166a07-d6ab-4907-b8e0-d58b80558a48",
   "metadata": {},
   "outputs": [
    {
     "name": "stdout",
     "output_type": "stream",
     "text": [
      "Saved processed movies data!\n"
     ]
    }
   ],
   "source": [
    "# Save a file csv havings posters\n",
    "movies_data = movies_data[['movieId', 'title', 'genres', 'poster_path']]\n",
    "\n",
    "# Save to CSV/Parquet\n",
    "movies_data.to_csv('movies_with_posters.csv', index=False)\n",
    "# OR for better performance with large datasets\n",
    "movies_data.to_parquet('movies_with_posters.parquet', index=False)\n",
    "\n",
    "print(\"Saved processed movies data!\")"
   ]
  },
  {
   "cell_type": "code",
   "execution_count": null,
   "id": "45f2fb91-b125-41f9-bd20-c2be2778fcd9",
   "metadata": {},
   "outputs": [],
   "source": []
  }
 ],
 "metadata": {
  "kernelspec": {
   "display_name": "Python 3 (ipykernel)",
   "language": "python",
   "name": "python3"
  },
  "language_info": {
   "codemirror_mode": {
    "name": "ipython",
    "version": 3
   },
   "file_extension": ".py",
   "mimetype": "text/x-python",
   "name": "python",
   "nbconvert_exporter": "python",
   "pygments_lexer": "ipython3",
   "version": "3.12.2"
  }
 },
 "nbformat": 4,
 "nbformat_minor": 5
}
